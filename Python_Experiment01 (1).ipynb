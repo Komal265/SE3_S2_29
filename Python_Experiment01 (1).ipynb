{
  "metadata": {
    "kernelspec": {
      "name": "python",
      "display_name": "Python (Pyodide)",
      "language": "python"
    },
    "language_info": {
      "codemirror_mode": {
        "name": "python",
        "version": 3
      },
      "file_extension": ".py",
      "mimetype": "text/x-python",
      "name": "python",
      "nbconvert_exporter": "python",
      "pygments_lexer": "ipython3",
      "version": "3.8"
    },
    "colab": {
      "provenance": []
    }
  },
  "nbformat_minor": 5,
  "nbformat": 4,
  "cells": [
    {
      "id": "a601cf35-b73f-4b59-99e3-cf54d576d159",
      "cell_type": "markdown",
      "source": "**Komal Salunkhe SE3 S2 29**",
      "metadata": {
        "id": "a601cf35-b73f-4b59-99e3-cf54d576d159"
      }
    },
    {
      "id": "2b0a52dd-4524-4b38-ad57-0db09f7eff28",
      "cell_type": "markdown",
      "source": "### Strings in Python",
      "metadata": {
        "id": "2b0a52dd-4524-4b38-ad57-0db09f7eff28"
      }
    },
    {
      "id": "37e80cc1-5984-47ed-b337-ec4ec06f9a76",
      "cell_type": "code",
      "source": "a = 'This is first String'\nprint(a)\nb = \"This is Second String\"\nprint(b)\nc='''This is Third String'''\nprint(c)",
      "metadata": {
        "id": "37e80cc1-5984-47ed-b337-ec4ec06f9a76",
        "outputId": "7ccb29e4-4da3-481e-db1b-2222a494c3c1"
      },
      "outputs": [
        {
          "name": "stdout",
          "output_type": "stream",
          "text": "This is first String\n,This is Second String\n,This is Third String\n"
        }
      ],
      "execution_count": null
    },
    {
      "id": "4f0e187f-f9e0-4fae-832d-367e31bb6134",
      "cell_type": "markdown",
      "source": "### Lists in Python",
      "metadata": {
        "id": "4f0e187f-f9e0-4fae-832d-367e31bb6134"
      }
    },
    {
      "id": "964af1a9-af79-4b18-ad3c-1466026cc698",
      "cell_type": "code",
      "source": "L = [1, \"a\" , \"string\" , 1+2]\nprint (L)\n#to add an item in list use append\nL.append(6)\nprint (L)\n#Using pop we can delete the last element\nL.pop()\nprint (L)\n#to display an elemnet of certain index\nprint (L[1])",
      "metadata": {
        "id": "964af1a9-af79-4b18-ad3c-1466026cc698",
        "outputId": "77ef97ba-32e8-4f98-eed7-ec8b0e07e927"
      },
      "outputs": [
        {
          "name": "stdout",
          "output_type": "stream",
          "text": "[1, 'a', 'string', 3]\n,[1, 'a', 'string', 3, 6]\n,[1, 'a', 'string', 3]\n,a\n"
        }
      ],
      "execution_count": null
    },
    {
      "id": "671025b6-3023-4505-94fe-8afdd07a0d0a",
      "cell_type": "markdown",
      "source": "### Tupples in Python",
      "metadata": {
        "id": "671025b6-3023-4505-94fe-8afdd07a0d0a"
      }
    },
    {
      "id": "ff36da7a-6424-428a-9db6-d51adf411d44",
      "cell_type": "code",
      "source": "tupple1 = (1, \"a\", \"string\", 1+2)\nprint(tupple1)\nprint(tupple1[1])",
      "metadata": {
        "id": "ff36da7a-6424-428a-9db6-d51adf411d44",
        "outputId": "aa71305a-7f39-4c92-dce5-5c2aae459250"
      },
      "outputs": [
        {
          "name": "stdout",
          "output_type": "stream",
          "text": "(1, 'a', 'string', 3)\n,a\n"
        }
      ],
      "execution_count": null
    },
    {
      "id": "f6dec7d6-58f6-46a4-b613-7a94184c4af8",
      "cell_type": "markdown",
      "source": "### Dictionaries In Python",
      "metadata": {
        "id": "f6dec7d6-58f6-46a4-b613-7a94184c4af8"
      }
    },
    {
      "id": "6af1c513-619f-4293-a999-d7c0621fc60d",
      "cell_type": "code",
      "source": "d = {1: 'Lorem', 2: 'Ipsum', 3: 'Dolerum'}\nprint(d)",
      "metadata": {
        "id": "6af1c513-619f-4293-a999-d7c0621fc60d",
        "outputId": "3d78d4d2-501e-4f0e-c557-e88b01ce4ced"
      },
      "outputs": [
        {
          "name": "stdout",
          "output_type": "stream",
          "text": "{1: 'Lorem', 2: 'Ipsum', 3: 'Dolerum'}\n"
        }
      ],
      "execution_count": null
    },
    {
      "id": "15a8478a-954a-4479-892b-3f8f91c30f9c",
      "cell_type": "code",
      "source": "# we can create a dictionary using { }\nd1 = {1: 'Game', 2: 'of', 3: 'Thrones'}\nprint(d1)\n#OR\n\n# we can create a dictionary using dict() constructor\nd2 = dict(a = \"House\", b = \"of\", c = \"Cards\")\nprint(d2)",
      "metadata": {
        "id": "15a8478a-954a-4479-892b-3f8f91c30f9c",
        "outputId": "cbf50495-d637-4dd3-88e4-81c2d63e3cc3"
      },
      "outputs": [
        {
          "name": "stdout",
          "output_type": "stream",
          "text": "{1: 'Game', 2: 'of', 3: 'Thrones'}\n,{'a': 'House', 'b': 'of', 'c': 'Cards'}\n"
        }
      ],
      "execution_count": null
    },
    {
      "id": "6df99956-bdff-458e-b01a-6b2ba352eeb1",
      "cell_type": "code",
      "source": "d = { \"name\": \"Alice\", 1: \"Python\", (1, 2): [1,2,4] }\n\n# Access using key\nprint(d[\"name\"])\n\n# Access using get()\nprint(d.get(\"name\"))\nprint(d[(1,2)])",
      "metadata": {
        "id": "6df99956-bdff-458e-b01a-6b2ba352eeb1",
        "outputId": "b272b86d-2805-4c05-f945-48e4ab117ad2"
      },
      "outputs": [
        {
          "name": "stdout",
          "output_type": "stream",
          "text": "Alice\n,Alice\n,[1, 2, 4]\n"
        }
      ],
      "execution_count": null
    },
    {
      "id": "5e9361d6-6921-48de-a481-78b499b65468",
      "cell_type": "code",
      "source": "d = {1: 'Game', 2: 'of', 3: 'Thrones'}\n\n# Adding a new key-value pair\nd[\"age\"] = 22\n\n# Updating an existing value\nd[1] = \"Python dict\"\n\nprint(d)",
      "metadata": {
        "id": "5e9361d6-6921-48de-a481-78b499b65468",
        "outputId": "2f405a68-cdfd-4601-bfd1-a5d12d9c9909"
      },
      "outputs": [
        {
          "name": "stdout",
          "output_type": "stream",
          "text": "{1: 'Python dict', 2: 'of', 3: 'Thrones', 'age': 22}\n"
        }
      ],
      "execution_count": null
    },
    {
      "id": "87fd1c2a-5e0d-4a54-b128-d3ea1453dec2",
      "cell_type": "code",
      "source": "d = {1: 'Game', 2: 'of', 3: 'Thrones'}\nprint(d)\nd.pop(1)\nprint(d)",
      "metadata": {
        "id": "87fd1c2a-5e0d-4a54-b128-d3ea1453dec2",
        "outputId": "c52105b4-40a0-4e32-af5c-fd8bc50529c5"
      },
      "outputs": [
        {
          "name": "stdout",
          "output_type": "stream",
          "text": "{1: 'Game', 2: 'of', 3: 'Thrones'}\n,{2: 'of', 3: 'Thrones'}\n"
        }
      ],
      "execution_count": null
    },
    {
      "id": "e3baa661-73f2-4ca4-87b7-d702f26345ce",
      "cell_type": "markdown",
      "source": "### Deleting a item in Dictionary",
      "metadata": {
        "id": "e3baa661-73f2-4ca4-87b7-d702f26345ce"
      }
    },
    {
      "id": "25f93398-a2f2-4f77-bafc-a4e6fc7c3e3f",
      "cell_type": "markdown",
      "source": "Using .pop() we can delete a item using its key, Using .popitem() it deletes the last item",
      "metadata": {
        "id": "25f93398-a2f2-4f77-bafc-a4e6fc7c3e3f"
      }
    },
    {
      "id": "fec12851-8ab7-4d6f-954b-d6a05d14c543",
      "cell_type": "markdown",
      "source": "using del we can either delete using key  a single item or we can also delete the dictionary completely",
      "metadata": {
        "id": "fec12851-8ab7-4d6f-954b-d6a05d14c543"
      }
    },
    {
      "id": "ac357fec-5d90-4126-9c34-5d5b8d92038d",
      "cell_type": "code",
      "source": "d = {1: 'Game', 2: 'of', 3: 'Thrones'}\nprint(d)\ndel d[1]\nprint(d)\ndel d",
      "metadata": {
        "id": "ac357fec-5d90-4126-9c34-5d5b8d92038d",
        "outputId": "c4ab90ff-0be9-4d9d-a7e3-7e2a7030567c"
      },
      "outputs": [
        {
          "name": "stdout",
          "output_type": "stream",
          "text": "{1: 'Game', 2: 'of', 3: 'Thrones'}\n,{2: 'of', 3: 'Thrones'}\n"
        }
      ],
      "execution_count": null
    }
  ]
}